{
 "cells": [
  {
   "cell_type": "markdown",
   "metadata": {},
   "source": [
    "### List\n"
   ]
  },
  {
   "cell_type": "code",
   "execution_count": 1,
   "metadata": {},
   "outputs": [
    {
     "output_type": "stream",
     "name": "stdout",
     "text": "I have 4 items to purchase\napple mango carrot banana \nAlso need to buy rice.\ncurrent shop items ['apple', 'mango', 'carrot', 'banana', 'rice']\nSort shoplist ['apple', 'banana', 'carrot', 'mango', 'rice']\nFirst need to buy is apple\nCurrent list ['banana', 'carrot', 'mango', 'rice']\n"
    }
   ],
   "source": [
    "shoplist = ['apple', 'mango', 'carrot', 'banana']\n",
    "\n",
    "print('I have',len(shoplist),'items to purchase')\n",
    "\n",
    "for item in shoplist:\n",
    "    print(item, end=' ') #not print in next row\n",
    "\n",
    "print('\\nAlso need to buy rice.')\n",
    "shoplist.append('rice') #add 'rice' in shoplis\n",
    "print('current shop items',shoplist) #show add 'rice'\n",
    "shoplist.sort() #sort data\n",
    "print('Sort shoplist',shoplist)\n",
    "print('First need to buy is',shoplist[0])\n",
    "olditem = shoplist[0]\n",
    "del shoplist[0]\n",
    "print('Current list',shoplist)"
   ]
  },
  {
   "cell_type": "markdown",
   "metadata": {},
   "source": [
    "### Tuple\n",
    "Is immutable 不可變的"
   ]
  },
  {
   "cell_type": "code",
   "execution_count": 2,
   "metadata": {},
   "outputs": [
    {
     "output_type": "stream",
     "name": "stdout",
     "text": "num of animals 3\nnum of cage in new zoo 3\nall in new zoo are ('monkey', 'camel', ('python', 'elephant', 'penguin'))\nold animal in old zoo ('python', 'elephant', 'penguin')\nlast animal from old zoo is penguin\nnum of new zoo 5\n"
    }
   ],
   "source": [
    "zoo = ('python','elephant','penguin') # () is optional, also can not to type it\n",
    "print('num of animals',len(zoo))\n",
    "\n",
    "new_zoo = 'monkey','camel',zoo\n",
    "print('num of cage in new zoo',len(new_zoo))\n",
    "print('all in new zoo are',new_zoo)\n",
    "print('old animal in old zoo',new_zoo[2]) # order from [0]\n",
    "print('last animal from old zoo is',new_zoo[2][2])\n",
    "print('num of new zoo',len(new_zoo)-1+len(new_zoo[2]))"
   ]
  },
  {
   "cell_type": "markdown",
   "metadata": {},
   "source": [
    "### dictionary \n",
    "Key must be uniqle"
   ]
  },
  {
   "cell_type": "code",
   "execution_count": 3,
   "metadata": {},
   "outputs": [
    {
     "output_type": "stream",
     "name": "stdout",
     "text": "Swaroop's address is swaroop@aaa.com\n\n {'swaroop': 'swaroop@aaa.com', 'Larry': 'Larry@wall.com', 'Matsumoto': 'mat@yyy.com'}\n\nThere are 3 contacts in address book\n\ncontact swaroop at swaroop@aaa.com\ncontact Larry at Larry@wall.com\ncontact Matsumoto at mat@yyy.com\n"
    },
    {
     "output_type": "execute_result",
     "data": {
      "text/plain": "{'swaroop': 'swaroop@aaa.com',\n 'Larry': 'Larry@wall.com',\n 'Matsumoto': 'mat@yyy.com',\n 'Guido': 'guido@gmail.com'}"
     },
     "metadata": {},
     "execution_count": 3
    }
   ],
   "source": [
    "# address book\n",
    "ab = {\n",
    "    'swaroop': 'swaroop@aaa.com',\n",
    "    'Larry': 'Larry@wall.com',\n",
    "    'Matsumoto': 'mat@yyy.com',\n",
    "    'Spammer': 'Spammer@aaa.com'\n",
    "}\n",
    "\n",
    "print('Swaroop\\'s address is', ab['swaroop']) #use key to link value\n",
    "\n",
    "del ab['Spammer'] #del key and value\n",
    "\n",
    "print('\\n',ab) #Show result\n",
    "\n",
    "print('\\nThere are {} contacts in address book\\n'.format(len(ab)))\n",
    "\n",
    "for name, address in ab.items():\n",
    "    print('contact {} at {}'.format(name,address))\n",
    "\n",
    "ab['Guido'] = 'guido@gmail.com'\n",
    "\n",
    "ab"
   ]
  },
  {
   "cell_type": "markdown",
   "metadata": {},
   "source": [
    "### Sequence\n",
    "purpose for Membership Test (in & not in) / Indexing Operation\n"
   ]
  },
  {
   "cell_type": "code",
   "execution_count": 4,
   "metadata": {},
   "outputs": [
    {
     "output_type": "stream",
     "name": "stdout",
     "text": "Item 0 is apple\nItem -1 is banana\ncharacter 0 is s\nItem 1 to 3 is ['mango', 'carrot']\nItem 1 to -1 is ['mango', 'carrot']\ncharacter 1 to 3 is wa\n"
    }
   ],
   "source": [
    "shoplist = ['apple','mango','carrot','banana']\n",
    "name = 'swaroop'\n",
    "\n",
    "print('Item 0 is', shoplist[0])\n",
    "print('Item -1 is', shoplist[-1])\n",
    "print('character 0 is', name[0])\n",
    "\n",
    "#shoplist[from:end:step]\n",
    "print('Item 1 to 3 is', shoplist[1:3]) #Not include item3\n",
    "print('Item 1 to -1 is', shoplist[1:-1]) #Not include item [-1]\n",
    "\n",
    "print('character 1 to 3 is', name[1:3])\n",
    "\n"
   ]
  },
  {
   "cell_type": "markdown",
   "metadata": {},
   "source": [
    "### Set 集合\n",
    "unorder , check exist and join judgement"
   ]
  },
  {
   "cell_type": "code",
   "execution_count": 5,
   "metadata": {},
   "outputs": [
    {
     "output_type": "stream",
     "name": "stdout",
     "text": "Is india in bri? True\nIs usa in bri? False\n"
    },
    {
     "output_type": "execute_result",
     "data": {
      "text/plain": "{'brazil', 'india'}"
     },
     "metadata": {},
     "execution_count": 5
    }
   ],
   "source": [
    "bri = set(['brazil', 'russia', 'india'])\n",
    "'india' in bri\n",
    "print('Is india in bri?', 'india' in bri)\n",
    "'usa' in bri\n",
    "print('Is usa in bri?', 'usa' in bri)\n",
    "\n",
    "bric = bri.copy()\n",
    "bric.add('china')\n",
    "bric.issuperset(bri)\n",
    "bric.remove('russia')\n",
    "bri & bric"
   ]
  },
  {
   "cell_type": "markdown",
   "metadata": {},
   "source": [
    "Refer"
   ]
  },
  {
   "cell_type": "code",
   "execution_count": 6,
   "metadata": {},
   "outputs": [
    {
     "output_type": "stream",
     "name": "stdout",
     "text": "simple\nshoplist is ['mango', 'carrot', 'banana']; mylist is ['mango', 'carrot', 'banana'] \ncopy by making a full slice\nshoplist is ['mango', 'carrot', 'banana']; mylist is ['carrot', 'banana'] \n"
    }
   ],
   "source": [
    "print('simple')\n",
    "shoplist\n",
    "# mylist from shoplist\n",
    "mylist = shoplist\n",
    "#delete data in shoplist\n",
    "del shoplist[0]\n",
    "print('shoplist is {0}; mylist is {1} '.format(shoplist,mylist))\n",
    "print('copy by making a full slice')\n",
    "mylist = shoplist[:]\n",
    "# delete data in mylist\n",
    "del mylist[0]\n",
    "print('shoplist is {0}; mylist is {1} '.format(shoplist,mylist))"
   ]
  },
  {
   "cell_type": "markdown",
   "metadata": {},
   "source": [
    "### String operation   "
   ]
  },
  {
   "cell_type": "code",
   "execution_count": 7,
   "metadata": {},
   "outputs": [
    {
     "output_type": "stream",
     "name": "stdout",
     "text": "Yes, it starts with \"swa\"\nYes, it contants \"a\"\nYes, it contants \"war\"\nBrazil_*_Russia_*_India_*_china\n"
    }
   ],
   "source": [
    "name = 'swaroop'\n",
    "if name.startswith('swa'): #start with str. \n",
    "    print('Yes, it starts with \"swa\"')\n",
    "if 'a' in name:\n",
    "    print('Yes, it contants \"a\"')\n",
    "if name.find('war') != -1: #if not find str. will return -1\n",
    "    print('Yes, it contants \"war\"')\n",
    "\n",
    "delimiter = '_*_' #界定符\n",
    "mylist = ['Brazil', 'Russia', 'India', 'china']\n",
    "print(delimiter.join(mylist))"
   ]
  },
  {
   "cell_type": "code",
   "execution_count": null,
   "metadata": {},
   "outputs": [],
   "source": []
  }
 ],
 "metadata": {
  "language_info": {
   "codemirror_mode": {
    "name": "ipython",
    "version": 3
   },
   "file_extension": ".py",
   "mimetype": "text/x-python",
   "name": "python",
   "nbconvert_exporter": "python",
   "pygments_lexer": "ipython3",
   "version": "3.6.9-final"
  },
  "orig_nbformat": 2,
  "kernelspec": {
   "name": "workshop",
   "display_name": "workshop"
  }
 },
 "nbformat": 4,
 "nbformat_minor": 2
}