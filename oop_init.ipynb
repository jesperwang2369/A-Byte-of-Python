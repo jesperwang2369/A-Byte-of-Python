{
 "cells": [
  {
   "cell_type": "markdown",
   "metadata": {},
   "source": [
    "### Simple class"
   ]
  },
  {
   "cell_type": "code",
   "execution_count": 1,
   "metadata": {
    "tags": []
   },
   "outputs": [
    {
     "output_type": "stream",
     "name": "stdout",
     "text": "<__main__.Person object at 0x0000023CD2CBC828>\n"
    }
   ],
   "source": [
    "# simple class\n",
    "class Person:\n",
    "    pass # empty\n",
    "p = Person()\n",
    "print(p)"
   ]
  },
  {
   "cell_type": "code",
   "execution_count": 2,
   "metadata": {
    "tags": []
   },
   "outputs": [
    {
     "output_type": "stream",
     "name": "stdout",
     "text": "hello, how r u?\n"
    }
   ],
   "source": [
    "class Person:\n",
    "    def say_hi(self):\n",
    "        print('hello, how r u?')\n",
    "Person().say_hi()"
   ]
  },
  {
   "cell_type": "markdown",
   "metadata": {},
   "source": [
    "### __init__使用"
   ]
  },
  {
   "cell_type": "code",
   "execution_count": 3,
   "metadata": {
    "tags": []
   },
   "outputs": [
    {
     "output_type": "stream",
     "name": "stdout",
     "text": "hello, my name is: AAA\n"
    }
   ],
   "source": [
    "class Person:\n",
    "    def __init__(self, n):\n",
    "        self.name = n\n",
    "\n",
    "    def say_hi(self):\n",
    "        print('hello, my name is:', self.name)\n",
    "Person('AAA').say_hi()"
   ]
  },
  {
   "cell_type": "markdown",
   "metadata": {},
   "source": [
    "### ObjectVariable"
   ]
  },
  {
   "cell_type": "code",
   "execution_count": 4,
   "metadata": {
    "tags": []
   },
   "outputs": [
    {
     "output_type": "stream",
     "name": "stdout",
     "text": "(initializing R2-D2)\nGreetings, my master call me R2-D2.\nWe are 1 robots.\n(initializing C-3PO)\nGreetings, my master call me C-3PO.\nWe are 2 robots.\n\nRobots can do some work here.\n\nC-3PO is being destroyed!\nThere are still 1 robot working.\nR2-D2 is being destroyed!\nR2-D2 was the last one.\nWe are 0 robots.\n"
    }
   ],
   "source": [
    "class Robot:\n",
    "    \"\"\"表示有個帶名字的機器人\"\"\"\n",
    "    #Class Variable, counting num of robot\n",
    "    population = 0 \n",
    "    \n",
    "    def __init__(self, n):\n",
    "        \"\"\"初始化數據\"\"\"\n",
    "        self.name = n \n",
    "        print('(initializing {})'.format(self.name))\n",
    "\n",
    "        #當有人被創建時,機器人\n",
    "        #增加人口數量\n",
    "        Robot.population += 1\n",
    "    def die(self):\n",
    "        \"\"\"I'm die\"\"\"\n",
    "        print('{} is being destroyed!'.format(self.name))\n",
    "\n",
    "        Robot.population -= 1\n",
    "\n",
    "        if Robot.population == 0:\n",
    "            print('{} was the last one.'.format(self.name))\n",
    "        else:\n",
    "            print('There are still {:d} robot working.'.format(Robot.population))\n",
    "    \n",
    "    def say_hi(self):\n",
    "        \"\"\"來自機器人的問候\n",
    "        \n",
    "        沒問題,你做得到.\"\"\"\n",
    "        print('Greetings, my master call me {}.'.format(self.name))\n",
    "\n",
    "    @classmethod\n",
    "    def how_many(cls):\n",
    "        \"\"\"當前數量\"\"\"\n",
    "        print('We are {:d} robots.'.format(cls.population))\n",
    "\n",
    "### create Robot 1\n",
    "droid1 = Robot(\"R2-D2\") #'Robot' is Class\n",
    "droid1.say_hi() \n",
    "Robot.how_many()     \n",
    "\n",
    "### create Robot 2\n",
    "\n",
    "droid2 = Robot(\"C-3PO\") #'Robot' is Class\n",
    "droid2.say_hi()\n",
    "droid2.how_many()\n",
    "\n",
    "\n",
    "print(\"\\nRobots can do some work here.\\n\")\n",
    "\n",
    "droid2.die()\n",
    "droid1.die()\n",
    "\n",
    "Robot.how_many()"
   ]
  },
  {
   "cell_type": "markdown",
   "metadata": {},
   "source": [
    "### Inheritance 繼承"
   ]
  },
  {
   "cell_type": "code",
   "execution_count": 5,
   "metadata": {
    "tags": []
   },
   "outputs": [
    {
     "output_type": "stream",
     "name": "stdout",
     "text": "(Initialized SchoolMember: Mrs. Shrividya)\n(Initialize Teacher: Mrs. Shrividya)\n(Initialized SchoolMember: Swaroop)\n(Initialized Student: Swaroop)\nName:\"Mrs. Shrividya\", age:\"40\" Salary: \"30000\"\nName:\"Swaroop\", age:\"25\" Marks: \"75\"\n"
    }
   ],
   "source": [
    "class SchoolMember: #base class / Superclass\n",
    "    '''All school members'''\n",
    "    def __init__(self, name, age):\n",
    "        self.name = name\n",
    "        self.age = age\n",
    "        print('(Initialized SchoolMember: {})'.format(self.name))\n",
    "\n",
    "    def tell(self):\n",
    "        '''Tell all details'''\n",
    "        print('Name:\"{}\", age:\"{}\" '.format(self.name, self.age), end='') #end='' 不斷行\n",
    "\n",
    "class Teacher(SchoolMember): #Dervied Classes / Subclass\n",
    "    '''Each Teacher'''\n",
    "    def __init__(self, name, age, salary):\n",
    "        SchoolMember.__init__(self, name, age)\n",
    "        self.salary = salary\n",
    "        print('(Initialize Teacher: {})'.format(self.name))\n",
    "\n",
    "    def tell(self):\n",
    "        SchoolMember.tell(self)\n",
    "        print('Salary: \"{:d}\"'.format(self.salary))\n",
    "\n",
    "class Student(SchoolMember): #Dervied Classes / Subclass\n",
    "    '''Each Student'''\n",
    "    def __init__(self, name, age, marks):\n",
    "        SchoolMember.__init__(self, name, age)\n",
    "        self.marks = marks\n",
    "        print('(Initialized Student: {})'.format(self.name))\n",
    "    \n",
    "    def tell(self):\n",
    "        SchoolMember.tell(self)\n",
    "        print('Marks: \"{:d}\"'.format(self.marks))\n",
    "\n",
    "t = Teacher('Mrs. Shrividya', 40, 30000)\n",
    "s = Student('Swaroop', 25, 75)\n",
    "\n",
    "members = [t, s]\n",
    "\n",
    "for m in members:\n",
    "    m.tell()"
   ]
  }
 ],
 "metadata": {
  "language_info": {
   "codemirror_mode": {
    "name": "ipython",
    "version": 3
   },
   "file_extension": ".py",
   "mimetype": "text/x-python",
   "name": "python",
   "nbconvert_exporter": "python",
   "pygments_lexer": "ipython3",
   "version": "3.6.9-final"
  },
  "orig_nbformat": 2,
  "kernelspec": {
   "name": "workshop",
   "display_name": "workshop"
  }
 },
 "nbformat": 4,
 "nbformat_minor": 2
}