{
 "cells": [
  {
   "cell_type": "markdown",
   "metadata": {},
   "source": [
    "### Function"
   ]
  },
  {
   "cell_type": "code",
   "execution_count": 1,
   "metadata": {},
   "outputs": [
    {
     "output_type": "stream",
     "name": "stdout",
     "text": "Function Hello\n"
    }
   ],
   "source": [
    "def hello(): #'def'+'name of function'+'():'\n",
    "    print('Function Hello')\n",
    "hello()"
   ]
  },
  {
   "cell_type": "code",
   "execution_count": 2,
   "metadata": {},
   "outputs": [
    {
     "output_type": "stream",
     "name": "stdout",
     "text": "8 is maximum\n"
    }
   ],
   "source": [
    "def print_max(a,b): #Add parameter -> 'def'+'name of function'+'(para1,para2,...):'\n",
    "    if a > b:\n",
    "        print(a, 'is maximum')\n",
    "    elif a == b:\n",
    "        print(a, 'is equil to', b)\n",
    "    else:\n",
    "        print(b, 'is maximum')\n",
    "print_max(4,8)"
   ]
  },
  {
   "cell_type": "markdown",
   "metadata": {},
   "source": [
    "### Local variable"
   ]
  },
  {
   "cell_type": "code",
   "execution_count": 3,
   "metadata": {},
   "outputs": [
    {
     "output_type": "stream",
     "name": "stdout",
     "text": "Global x is 50\nChange local x to 2\nx not in function still is 50\n"
    }
   ],
   "source": [
    "x = 50 #Global variable\n",
    "\n",
    "def func(x):\n",
    "    print('Global x is', x)\n",
    "    x = 2\n",
    "    print('Change local x to', x)\n",
    "\n",
    "func(x)\n",
    "print ('x not in function still is', x)"
   ]
  },
  {
   "cell_type": "markdown",
   "metadata": {},
   "source": [
    "### Global variable"
   ]
  },
  {
   "cell_type": "code",
   "execution_count": 4,
   "metadata": {},
   "outputs": [
    {
     "output_type": "stream",
     "name": "stdout",
     "text": "call global x is 30\nchange to global x is 10\ncurrent x is 10\n"
    }
   ],
   "source": [
    "x = 30 #global variable\n",
    "\n",
    "def func_global():\n",
    "    global x\n",
    "    print ('call global x is', x)\n",
    "    x = 10\n",
    "    print('change to global x is', x)\n",
    "\n",
    "func_global()\n",
    "print('current x is',x)    "
   ]
  },
  {
   "cell_type": "markdown",
   "metadata": {},
   "source": [
    "### Default value"
   ]
  },
  {
   "cell_type": "code",
   "execution_count": 5,
   "metadata": {},
   "outputs": [
    {
     "output_type": "stream",
     "name": "stdout",
     "text": "hello\nfive_five_five_five_five_\n"
    }
   ],
   "source": [
    "def say(message, times=1): #define default value to time\n",
    "    print(message * times)\n",
    "say('hello')\n",
    "say('five_',5)\n"
   ]
  },
  {
   "cell_type": "markdown",
   "metadata": {},
   "source": [
    "### keyword"
   ]
  },
  {
   "cell_type": "code",
   "execution_count": 6,
   "metadata": {},
   "outputs": [
    {
     "output_type": "stream",
     "name": "stdout",
     "text": "a is 3 and b is 8 and c is 5\na is 25 and b is 3 and c is 50\na is 9 and b is 3 and c is 1\n"
    }
   ],
   "source": [
    "def func(a, b=3, c=5): #give b and c have default value\n",
    "    print('a is', a, 'and b is', b, 'and c is', c)\n",
    "\n",
    "func(3, 8)\n",
    "func(25, c=50)\n",
    "func(c=1, a=9) #not relative order, we get it assign "
   ]
  },
  {
   "cell_type": "markdown",
   "metadata": {},
   "source": [
    "### VarArgs Parameters\n",
    "除了一般變數外 (Var), 還有 *args 與 **kwargs"
   ]
  },
  {
   "cell_type": "code",
   "execution_count": 7,
   "metadata": {},
   "outputs": [
    {
     "output_type": "stream",
     "name": "stdout",
     "text": "single item: 1\nsingle item: 2\nsingle item: 3\nsingle item: 4\n"
    }
   ],
   "source": [
    "#*args function\n",
    "def args_func(*args): \n",
    "    for item in args:\n",
    "        print('single item:', item)\n",
    "args_func(1,2,3,4)  "
   ]
  },
  {
   "cell_type": "code",
   "execution_count": 8,
   "metadata": {},
   "outputs": [
    {
     "output_type": "stream",
     "name": "stdout",
     "text": "key index is a; value is 10\nkey index is b; value is 20\n"
    }
   ],
   "source": [
    "#**kwargs function\n",
    "def kwargs_func(**kwargs):\n",
    "    for key in kwargs:\n",
    "        print('key index is {0}; value is {1}'.format(key,kwargs[key]))\n",
    "\n",
    "kwargs_func(a=10,b=20)"
   ]
  },
  {
   "cell_type": "code",
   "execution_count": 9,
   "metadata": {},
   "outputs": [
    {
     "output_type": "stream",
     "name": "stdout",
     "text": "key is c, value is 30\nkey is d, value is 40\n"
    }
   ],
   "source": [
    "#**kwargs function used item()\n",
    "def kwargs_item(**kwargs):\n",
    "    for k, v in kwargs.items():\n",
    "        print('key is {0}, value is {1}'.format(k, v))\n",
    "kwargs_item(c=30,d=40)"
   ]
  },
  {
   "cell_type": "markdown",
   "metadata": {},
   "source": [
    "### Return"
   ]
  },
  {
   "cell_type": "code",
   "execution_count": 10,
   "metadata": {},
   "outputs": [
    {
     "output_type": "execute_result",
     "data": {
      "text/plain": "'Ther number is equal'"
     },
     "metadata": {},
     "execution_count": 10
    }
   ],
   "source": [
    "def maximum_return(x, y):\n",
    "    if x > y:\n",
    "        return x\n",
    "    elif x == y:\n",
    "        return 'Ther number is equal'\n",
    "    else:\n",
    "        return y\n",
    "maximum_return(3,3)"
   ]
  },
  {
   "cell_type": "markdown",
   "metadata": {},
   "source": [
    "### DocStrings"
   ]
  },
  {
   "cell_type": "code",
   "execution_count": 11,
   "metadata": {},
   "outputs": [
    {
     "output_type": "stream",
     "name": "stdout",
     "text": "7 is maximum\nPrint out maxium document content.\n\n    two integer\n"
    }
   ],
   "source": [
    "def print_max(x, y):\n",
    "    '''Print out maxium document content.\n",
    "\n",
    "    two integer'''\n",
    "    x = int(x)\n",
    "    y = int(y)\n",
    "\n",
    "    if x > y: \n",
    "        print(x, 'is maximum')\n",
    "    else:\n",
    "        print(y, 'is maximum')\n",
    "\n",
    "print_max(5,7)\n",
    "print(print_max.__doc__)\n"
   ]
  },
  {
   "cell_type": "code",
   "execution_count": 12,
   "metadata": {},
   "outputs": [
    {
     "output_type": "stream",
     "name": "stdout",
     "text": "Help on function print_max in module __main__:\n\nprint_max(x, y)\n    Print out maxium document content.\n    \n    two integer\n\n"
    }
   ],
   "source": [
    "help(print_max)"
   ]
  },
  {
   "cell_type": "code",
   "execution_count": null,
   "metadata": {},
   "outputs": [],
   "source": []
  }
 ],
 "metadata": {
  "language_info": {
   "codemirror_mode": {
    "name": "ipython",
    "version": 3
   },
   "file_extension": ".py",
   "mimetype": "text/x-python",
   "name": "python",
   "nbconvert_exporter": "python",
   "pygments_lexer": "ipython3",
   "version": "3.6.9-final"
  },
  "orig_nbformat": 2,
  "kernelspec": {
   "name": "workshop",
   "display_name": "workshop"
  }
 },
 "nbformat": 4,
 "nbformat_minor": 2
}