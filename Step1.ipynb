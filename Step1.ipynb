{
 "cells": [
  {
   "cell_type": "code",
   "execution_count": 1,
   "metadata": {},
   "outputs": [
    {
     "output_type": "stream",
     "name": "stdout",
     "text": "hello world\n"
    }
   ],
   "source": [
    "print('hello world')"
   ]
  },
  {
   "cell_type": "markdown",
   "metadata": {},
   "source": [
    "### Format() Function"
   ]
  },
  {
   "cell_type": "code",
   "execution_count": 2,
   "metadata": {},
   "outputs": [
    {
     "output_type": "stream",
     "name": "stdout",
     "text": "gogoro was 20 years old\ngogoro is nice\n"
    }
   ],
   "source": [
    "age = 20 \n",
    "name = 'gogoro'\n",
    "\n",
    "print('{0} was {1} years old'.format(name,age)) #Format will auto transfer datatype\n",
    "print('{0} is nice'.format(name))"
   ]
  },
  {
   "cell_type": "code",
   "execution_count": 3,
   "metadata": {},
   "outputs": [
    {
     "output_type": "stream",
     "name": "stdout",
     "text": "0.333\n   hello   \n"
    }
   ],
   "source": [
    "print('{0:.3f}'.format(1/3)) #Three decimal places\n",
    "print('{0:^11}'.format('hello')) #use(^)define string length"
   ]
  },
  {
   "cell_type": "markdown",
   "metadata": {},
   "source": [
    "### Escape Sequence"
   ]
  },
  {
   "cell_type": "code",
   "execution_count": 4,
   "metadata": {},
   "outputs": [
    {
     "output_type": "execute_result",
     "data": {
      "text/plain": "'This is 1st line.  This is 2nd line.'"
     },
     "metadata": {},
     "execution_count": 4
    }
   ],
   "source": [
    "'This is 1st line. \\\n",
    " This is 2nd line.'"
   ]
  },
  {
   "cell_type": "code",
   "execution_count": 5,
   "metadata": {},
   "outputs": [
    {
     "output_type": "execute_result",
     "data": {
      "text/plain": "'\\\\1'"
     },
     "metadata": {},
     "execution_count": 5
    }
   ],
   "source": [
    "'\\\\1'"
   ]
  },
  {
   "cell_type": "code",
   "execution_count": 6,
   "metadata": {},
   "outputs": [
    {
     "output_type": "stream",
     "name": "stdout",
     "text": "5\n6\n"
    }
   ],
   "source": [
    "i = 5\n",
    "print(i)\n",
    "i = i+1\n",
    "print(i)"
   ]
  },
  {
   "cell_type": "code",
   "execution_count": null,
   "metadata": {},
   "outputs": [],
   "source": []
  }
 ],
 "metadata": {
  "language_info": {
   "codemirror_mode": {
    "name": "ipython",
    "version": 3
   },
   "file_extension": ".py",
   "mimetype": "text/x-python",
   "name": "python",
   "nbconvert_exporter": "python",
   "pygments_lexer": "ipython3",
   "version": "3.6.9-final"
  },
  "orig_nbformat": 2,
  "kernelspec": {
   "name": "workshop",
   "display_name": "workshop"
  }
 },
 "nbformat": 4,
 "nbformat_minor": 2
}