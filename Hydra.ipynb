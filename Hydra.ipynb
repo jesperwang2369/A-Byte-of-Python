{
 "cells": [
  {
   "cell_type": "code",
   "execution_count": 1,
   "metadata": {},
   "outputs": [
    {
     "output_type": "execute_result",
     "data": {
      "text/plain": "          PT  S1 XCoordinate Die:Col_X  S1 YCoordinate Die:Row_Y  \\\n0    Point 1                        -2                         0   \n1    Point 2                        -2                         3   \n2    Point 3                         6                         0   \n3    Point 4                        -2                        -3   \n4    Point 5                         6                         3   \n..       ...                       ...                       ...   \n93  Point 94                       -34                         6   \n94  Point 95                       -23                       -14   \n95  Point 96                       -34                        -6   \n96  Point 97                       -15                       -17   \n97  Point 98                       -10                       -18   \n\n    OCD_METAL_LINE_MID_BOX04 DF  \n0                       95.8424  \n1                       99.6048  \n2                       97.7349  \n3                      100.1120  \n4                       98.8989  \n..                          ...  \n93                     123.3830  \n94                     123.0070  \n95                     133.8490  \n96                     130.1690  \n97                     131.8310  \n\n[98 rows x 4 columns]",
      "text/html": "<div>\n<style scoped>\n    .dataframe tbody tr th:only-of-type {\n        vertical-align: middle;\n    }\n\n    .dataframe tbody tr th {\n        vertical-align: top;\n    }\n\n    .dataframe thead th {\n        text-align: right;\n    }\n</style>\n<table border=\"1\" class=\"dataframe\">\n  <thead>\n    <tr style=\"text-align: right;\">\n      <th></th>\n      <th>PT</th>\n      <th>S1 XCoordinate Die:Col_X</th>\n      <th>S1 YCoordinate Die:Row_Y</th>\n      <th>OCD_METAL_LINE_MID_BOX04 DF</th>\n    </tr>\n  </thead>\n  <tbody>\n    <tr>\n      <th>0</th>\n      <td>Point 1</td>\n      <td>-2</td>\n      <td>0</td>\n      <td>95.8424</td>\n    </tr>\n    <tr>\n      <th>1</th>\n      <td>Point 2</td>\n      <td>-2</td>\n      <td>3</td>\n      <td>99.6048</td>\n    </tr>\n    <tr>\n      <th>2</th>\n      <td>Point 3</td>\n      <td>6</td>\n      <td>0</td>\n      <td>97.7349</td>\n    </tr>\n    <tr>\n      <th>3</th>\n      <td>Point 4</td>\n      <td>-2</td>\n      <td>-3</td>\n      <td>100.1120</td>\n    </tr>\n    <tr>\n      <th>4</th>\n      <td>Point 5</td>\n      <td>6</td>\n      <td>3</td>\n      <td>98.8989</td>\n    </tr>\n    <tr>\n      <th>...</th>\n      <td>...</td>\n      <td>...</td>\n      <td>...</td>\n      <td>...</td>\n    </tr>\n    <tr>\n      <th>93</th>\n      <td>Point 94</td>\n      <td>-34</td>\n      <td>6</td>\n      <td>123.3830</td>\n    </tr>\n    <tr>\n      <th>94</th>\n      <td>Point 95</td>\n      <td>-23</td>\n      <td>-14</td>\n      <td>123.0070</td>\n    </tr>\n    <tr>\n      <th>95</th>\n      <td>Point 96</td>\n      <td>-34</td>\n      <td>-6</td>\n      <td>133.8490</td>\n    </tr>\n    <tr>\n      <th>96</th>\n      <td>Point 97</td>\n      <td>-15</td>\n      <td>-17</td>\n      <td>130.1690</td>\n    </tr>\n    <tr>\n      <th>97</th>\n      <td>Point 98</td>\n      <td>-10</td>\n      <td>-18</td>\n      <td>131.8310</td>\n    </tr>\n  </tbody>\n</table>\n<p>98 rows × 4 columns</p>\n</div>"
     },
     "metadata": {},
     "execution_count": 1
    }
   ],
   "source": [
    "import os\n",
    "import pandas as pd\n",
    "\n",
    "filename = 'HydraData.csv'\n",
    "path_abs = os.path.abspath('.') #absolute path of current folder about this .ipynb\n",
    "path_file = os.path.join(path_abs,filename)\n",
    "\n",
    "df = pd.read_csv(path_file)\n",
    "\n",
    "pd.set_option('max_rows',10) #show head(5) + tail(5)\n",
    "#pd.reset_option('max_rows') #reset\n",
    "\n",
    "df"
   ]
  },
  {
   "cell_type": "code",
   "execution_count": 2,
   "metadata": {},
   "outputs": [],
   "source": [
    "col_x = df.iloc[:,1]\n",
    "row_y = df.iloc[:,2]"
   ]
  },
  {
   "cell_type": "code",
   "execution_count": 3,
   "metadata": {},
   "outputs": [
    {
     "output_type": "execute_result",
     "data": {
      "text/plain": "          PT  OCD_METAL_LINE_MID_BOX04 DF  S1 XCoordinate Die:Col_X  \\\n3    Point 4                     100.1120                        -2   \n10  Point 11                      99.1217                       -10   \n11  Point 12                     101.1370                        -2   \n17  Point 18                      98.9569                       -10   \n21  Point 22                      99.9450                        -2   \n..       ...                          ...                       ...   \n90  Point 91                     118.1120                       -26   \n94  Point 95                     123.0070                       -23   \n95  Point 96                     133.8490                       -34   \n96  Point 97                     130.1690                       -15   \n97  Point 98                     131.8310                       -10   \n\n    S1 YCoordinate Die:Row_Y  \n3                         -3  \n10                        -3  \n11                        -6  \n17                        -6  \n21                        -9  \n..                       ...  \n90                       -12  \n94                       -14  \n95                        -6  \n96                       -17  \n97                       -18  \n\n[26 rows x 4 columns]",
      "text/html": "<div>\n<style scoped>\n    .dataframe tbody tr th:only-of-type {\n        vertical-align: middle;\n    }\n\n    .dataframe tbody tr th {\n        vertical-align: top;\n    }\n\n    .dataframe thead th {\n        text-align: right;\n    }\n</style>\n<table border=\"1\" class=\"dataframe\">\n  <thead>\n    <tr style=\"text-align: right;\">\n      <th></th>\n      <th>PT</th>\n      <th>OCD_METAL_LINE_MID_BOX04 DF</th>\n      <th>S1 XCoordinate Die:Col_X</th>\n      <th>S1 YCoordinate Die:Row_Y</th>\n    </tr>\n  </thead>\n  <tbody>\n    <tr>\n      <th>3</th>\n      <td>Point 4</td>\n      <td>100.1120</td>\n      <td>-2</td>\n      <td>-3</td>\n    </tr>\n    <tr>\n      <th>10</th>\n      <td>Point 11</td>\n      <td>99.1217</td>\n      <td>-10</td>\n      <td>-3</td>\n    </tr>\n    <tr>\n      <th>11</th>\n      <td>Point 12</td>\n      <td>101.1370</td>\n      <td>-2</td>\n      <td>-6</td>\n    </tr>\n    <tr>\n      <th>17</th>\n      <td>Point 18</td>\n      <td>98.9569</td>\n      <td>-10</td>\n      <td>-6</td>\n    </tr>\n    <tr>\n      <th>21</th>\n      <td>Point 22</td>\n      <td>99.9450</td>\n      <td>-2</td>\n      <td>-9</td>\n    </tr>\n    <tr>\n      <th>...</th>\n      <td>...</td>\n      <td>...</td>\n      <td>...</td>\n      <td>...</td>\n    </tr>\n    <tr>\n      <th>90</th>\n      <td>Point 91</td>\n      <td>118.1120</td>\n      <td>-26</td>\n      <td>-12</td>\n    </tr>\n    <tr>\n      <th>94</th>\n      <td>Point 95</td>\n      <td>123.0070</td>\n      <td>-23</td>\n      <td>-14</td>\n    </tr>\n    <tr>\n      <th>95</th>\n      <td>Point 96</td>\n      <td>133.8490</td>\n      <td>-34</td>\n      <td>-6</td>\n    </tr>\n    <tr>\n      <th>96</th>\n      <td>Point 97</td>\n      <td>130.1690</td>\n      <td>-15</td>\n      <td>-17</td>\n    </tr>\n    <tr>\n      <th>97</th>\n      <td>Point 98</td>\n      <td>131.8310</td>\n      <td>-10</td>\n      <td>-18</td>\n    </tr>\n  </tbody>\n</table>\n<p>26 rows × 4 columns</p>\n</div>"
     },
     "metadata": {},
     "execution_count": 3
    }
   ],
   "source": [
    "df_NN = df.loc[(col_x < 0) & (row_y < 0)]\n",
    "df_NN.iloc[:,[0,3,1,2]] "
   ]
  },
  {
   "cell_type": "code",
   "execution_count": 4,
   "metadata": {},
   "outputs": [
    {
     "output_type": "execute_result",
     "data": {
      "text/plain": "          PT  OCD_METAL_LINE_MID_BOX04 DF  S1 XCoordinate Die:Col_X  \\\n0    Point 1                      95.8424                        -2   \n1    Point 2                      99.6048                        -2   \n6    Point 7                      99.2271                       -10   \n7    Point 8                      99.7465                        -2   \n8    Point 9                     101.3730                       -10   \n..       ...                          ...                       ...   \n78  Point 79                     116.2660                       -26   \n80  Point 81                     115.4210                       -34   \n82  Point 83                     117.4760                       -34   \n83  Point 84                     116.6190                       -10   \n93  Point 94                     123.3830                       -34   \n\n    S1 YCoordinate Die:Row_Y  \n0                          0  \n1                          3  \n6                          0  \n7                          6  \n8                          3  \n..                       ...  \n78                        12  \n80                         0  \n82                         3  \n83                        18  \n93                         6  \n\n[30 rows x 4 columns]",
      "text/html": "<div>\n<style scoped>\n    .dataframe tbody tr th:only-of-type {\n        vertical-align: middle;\n    }\n\n    .dataframe tbody tr th {\n        vertical-align: top;\n    }\n\n    .dataframe thead th {\n        text-align: right;\n    }\n</style>\n<table border=\"1\" class=\"dataframe\">\n  <thead>\n    <tr style=\"text-align: right;\">\n      <th></th>\n      <th>PT</th>\n      <th>OCD_METAL_LINE_MID_BOX04 DF</th>\n      <th>S1 XCoordinate Die:Col_X</th>\n      <th>S1 YCoordinate Die:Row_Y</th>\n    </tr>\n  </thead>\n  <tbody>\n    <tr>\n      <th>0</th>\n      <td>Point 1</td>\n      <td>95.8424</td>\n      <td>-2</td>\n      <td>0</td>\n    </tr>\n    <tr>\n      <th>1</th>\n      <td>Point 2</td>\n      <td>99.6048</td>\n      <td>-2</td>\n      <td>3</td>\n    </tr>\n    <tr>\n      <th>6</th>\n      <td>Point 7</td>\n      <td>99.2271</td>\n      <td>-10</td>\n      <td>0</td>\n    </tr>\n    <tr>\n      <th>7</th>\n      <td>Point 8</td>\n      <td>99.7465</td>\n      <td>-2</td>\n      <td>6</td>\n    </tr>\n    <tr>\n      <th>8</th>\n      <td>Point 9</td>\n      <td>101.3730</td>\n      <td>-10</td>\n      <td>3</td>\n    </tr>\n    <tr>\n      <th>...</th>\n      <td>...</td>\n      <td>...</td>\n      <td>...</td>\n      <td>...</td>\n    </tr>\n    <tr>\n      <th>78</th>\n      <td>Point 79</td>\n      <td>116.2660</td>\n      <td>-26</td>\n      <td>12</td>\n    </tr>\n    <tr>\n      <th>80</th>\n      <td>Point 81</td>\n      <td>115.4210</td>\n      <td>-34</td>\n      <td>0</td>\n    </tr>\n    <tr>\n      <th>82</th>\n      <td>Point 83</td>\n      <td>117.4760</td>\n      <td>-34</td>\n      <td>3</td>\n    </tr>\n    <tr>\n      <th>83</th>\n      <td>Point 84</td>\n      <td>116.6190</td>\n      <td>-10</td>\n      <td>18</td>\n    </tr>\n    <tr>\n      <th>93</th>\n      <td>Point 94</td>\n      <td>123.3830</td>\n      <td>-34</td>\n      <td>6</td>\n    </tr>\n  </tbody>\n</table>\n<p>30 rows × 4 columns</p>\n</div>"
     },
     "metadata": {},
     "execution_count": 4
    }
   ],
   "source": [
    "df_NP = df.loc[(col_x < 0) & ~(row_y < 0)]\n",
    "df_NP.iloc[:,[0,3,1,2]]"
   ]
  },
  {
   "cell_type": "code",
   "execution_count": 5,
   "metadata": {},
   "outputs": [
    {
     "output_type": "execute_result",
     "data": {
      "text/plain": "          PT  OCD_METAL_LINE_MID_BOX04 DF  S1 XCoordinate Die:Col_X  \\\n5    Point 6                     100.6460                         6   \n12  Point 13                     100.5000                         6   \n16  Point 17                      99.3420                        14   \n23  Point 24                      99.6981                        14   \n25  Point 26                     100.8180                         6   \n..       ...                          ...                       ...   \n70  Point 71                     111.9150                        22   \n72  Point 73                     114.2490                        14   \n84  Point 85                     109.8250                        33   \n88  Point 89                     114.3720                        30   \n92  Point 93                     120.7510                         6   \n\n    S1 YCoordinate Die:Row_Y  \n5                         -3  \n12                        -6  \n16                        -3  \n23                        -6  \n25                        -9  \n..                       ...  \n70                       -12  \n72                       -15  \n84                        -5  \n88                        -9  \n92                       -18  \n\n[18 rows x 4 columns]",
      "text/html": "<div>\n<style scoped>\n    .dataframe tbody tr th:only-of-type {\n        vertical-align: middle;\n    }\n\n    .dataframe tbody tr th {\n        vertical-align: top;\n    }\n\n    .dataframe thead th {\n        text-align: right;\n    }\n</style>\n<table border=\"1\" class=\"dataframe\">\n  <thead>\n    <tr style=\"text-align: right;\">\n      <th></th>\n      <th>PT</th>\n      <th>OCD_METAL_LINE_MID_BOX04 DF</th>\n      <th>S1 XCoordinate Die:Col_X</th>\n      <th>S1 YCoordinate Die:Row_Y</th>\n    </tr>\n  </thead>\n  <tbody>\n    <tr>\n      <th>5</th>\n      <td>Point 6</td>\n      <td>100.6460</td>\n      <td>6</td>\n      <td>-3</td>\n    </tr>\n    <tr>\n      <th>12</th>\n      <td>Point 13</td>\n      <td>100.5000</td>\n      <td>6</td>\n      <td>-6</td>\n    </tr>\n    <tr>\n      <th>16</th>\n      <td>Point 17</td>\n      <td>99.3420</td>\n      <td>14</td>\n      <td>-3</td>\n    </tr>\n    <tr>\n      <th>23</th>\n      <td>Point 24</td>\n      <td>99.6981</td>\n      <td>14</td>\n      <td>-6</td>\n    </tr>\n    <tr>\n      <th>25</th>\n      <td>Point 26</td>\n      <td>100.8180</td>\n      <td>6</td>\n      <td>-9</td>\n    </tr>\n    <tr>\n      <th>...</th>\n      <td>...</td>\n      <td>...</td>\n      <td>...</td>\n      <td>...</td>\n    </tr>\n    <tr>\n      <th>70</th>\n      <td>Point 71</td>\n      <td>111.9150</td>\n      <td>22</td>\n      <td>-12</td>\n    </tr>\n    <tr>\n      <th>72</th>\n      <td>Point 73</td>\n      <td>114.2490</td>\n      <td>14</td>\n      <td>-15</td>\n    </tr>\n    <tr>\n      <th>84</th>\n      <td>Point 85</td>\n      <td>109.8250</td>\n      <td>33</td>\n      <td>-5</td>\n    </tr>\n    <tr>\n      <th>88</th>\n      <td>Point 89</td>\n      <td>114.3720</td>\n      <td>30</td>\n      <td>-9</td>\n    </tr>\n    <tr>\n      <th>92</th>\n      <td>Point 93</td>\n      <td>120.7510</td>\n      <td>6</td>\n      <td>-18</td>\n    </tr>\n  </tbody>\n</table>\n<p>18 rows × 4 columns</p>\n</div>"
     },
     "metadata": {},
     "execution_count": 5
    }
   ],
   "source": [
    "df_PN = df.loc[~(col_x < 0) & (row_y < 0)]\n",
    "df_PN.iloc[:,[0,3,1,2]]"
   ]
  },
  {
   "cell_type": "code",
   "execution_count": 6,
   "metadata": {},
   "outputs": [
    {
     "output_type": "execute_result",
     "data": {
      "text/plain": "          PT  OCD_METAL_LINE_MID_BOX04 DF  S1 XCoordinate Die:Col_X  \\\n2    Point 3                      97.7349                         6   \n4    Point 5                      98.8989                         6   \n9   Point 10                      99.3154                         6   \n13  Point 14                     100.5800                        14   \n15  Point 16                      98.3646                        14   \n..       ...                          ...                       ...   \n76  Point 77                     110.7820                         6   \n77  Point 78                     106.6140                        33   \n79  Point 80                     106.5800                        30   \n89  Point 90                     114.0830                        22   \n91  Point 92                     110.1950                        35   \n\n    S1 YCoordinate Die:Row_Y  \n2                          0  \n4                          3  \n9                          6  \n13                         0  \n15                         3  \n..                       ...  \n76                        18  \n77                         4  \n79                         9  \n89                        15  \n91                         2  \n\n[24 rows x 4 columns]",
      "text/html": "<div>\n<style scoped>\n    .dataframe tbody tr th:only-of-type {\n        vertical-align: middle;\n    }\n\n    .dataframe tbody tr th {\n        vertical-align: top;\n    }\n\n    .dataframe thead th {\n        text-align: right;\n    }\n</style>\n<table border=\"1\" class=\"dataframe\">\n  <thead>\n    <tr style=\"text-align: right;\">\n      <th></th>\n      <th>PT</th>\n      <th>OCD_METAL_LINE_MID_BOX04 DF</th>\n      <th>S1 XCoordinate Die:Col_X</th>\n      <th>S1 YCoordinate Die:Row_Y</th>\n    </tr>\n  </thead>\n  <tbody>\n    <tr>\n      <th>2</th>\n      <td>Point 3</td>\n      <td>97.7349</td>\n      <td>6</td>\n      <td>0</td>\n    </tr>\n    <tr>\n      <th>4</th>\n      <td>Point 5</td>\n      <td>98.8989</td>\n      <td>6</td>\n      <td>3</td>\n    </tr>\n    <tr>\n      <th>9</th>\n      <td>Point 10</td>\n      <td>99.3154</td>\n      <td>6</td>\n      <td>6</td>\n    </tr>\n    <tr>\n      <th>13</th>\n      <td>Point 14</td>\n      <td>100.5800</td>\n      <td>14</td>\n      <td>0</td>\n    </tr>\n    <tr>\n      <th>15</th>\n      <td>Point 16</td>\n      <td>98.3646</td>\n      <td>14</td>\n      <td>3</td>\n    </tr>\n    <tr>\n      <th>...</th>\n      <td>...</td>\n      <td>...</td>\n      <td>...</td>\n      <td>...</td>\n    </tr>\n    <tr>\n      <th>76</th>\n      <td>Point 77</td>\n      <td>110.7820</td>\n      <td>6</td>\n      <td>18</td>\n    </tr>\n    <tr>\n      <th>77</th>\n      <td>Point 78</td>\n      <td>106.6140</td>\n      <td>33</td>\n      <td>4</td>\n    </tr>\n    <tr>\n      <th>79</th>\n      <td>Point 80</td>\n      <td>106.5800</td>\n      <td>30</td>\n      <td>9</td>\n    </tr>\n    <tr>\n      <th>89</th>\n      <td>Point 90</td>\n      <td>114.0830</td>\n      <td>22</td>\n      <td>15</td>\n    </tr>\n    <tr>\n      <th>91</th>\n      <td>Point 92</td>\n      <td>110.1950</td>\n      <td>35</td>\n      <td>2</td>\n    </tr>\n  </tbody>\n</table>\n<p>24 rows × 4 columns</p>\n</div>"
     },
     "metadata": {},
     "execution_count": 6
    }
   ],
   "source": [
    "df_PP = df.loc[~(col_x < 0) & ~(row_y < 0)]\n",
    "df_PP.iloc[:,[0,3,1,2]]"
   ]
  },
  {
   "cell_type": "code",
   "execution_count": null,
   "metadata": {},
   "outputs": [],
   "source": []
  }
 ],
 "metadata": {
  "language_info": {
   "codemirror_mode": {
    "name": "ipython",
    "version": 3
   },
   "file_extension": ".py",
   "mimetype": "text/x-python",
   "name": "python",
   "nbconvert_exporter": "python",
   "pygments_lexer": "ipython3",
   "version": "3.7.3-final"
  },
  "orig_nbformat": 2,
  "kernelspec": {
   "name": "python3",
   "display_name": "Python 3"
  }
 },
 "nbformat": 4,
 "nbformat_minor": 2
}