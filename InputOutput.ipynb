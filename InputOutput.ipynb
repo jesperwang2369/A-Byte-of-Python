{
 "cells": [
  {
   "cell_type": "markdown",
   "metadata": {},
   "source": [
    "### Used input"
   ]
  },
  {
   "cell_type": "code",
   "execution_count": 1,
   "metadata": {
    "tags": []
   },
   "outputs": [
    {
     "output_type": "stream",
     "name": "stdout",
     "text": "aaaa, It is palindrome\n"
    }
   ],
   "source": [
    "def reverse(text):\n",
    "    return text[::-1]\n",
    "\n",
    "def is_palindrome(text):\n",
    "    return text == reverse(text)\n",
    "\n",
    "InputString = input('Enter text:')\n",
    "\n",
    "if is_palindrome(InputString):\n",
    "    print('{}, It is palindrome'.format(InputString))\n",
    "else:\n",
    "    print('{}, It is not palindrome'.format(InputString))"
   ]
  },
  {
   "cell_type": "markdown",
   "metadata": {},
   "source": [
    "### Read document"
   ]
  },
  {
   "cell_type": "code",
   "execution_count": 2,
   "metadata": {
    "tags": []
   },
   "outputs": [
    {
     "output_type": "stream",
     "name": "stdout",
     "text": "Programming is fun\nWhen the work is done\nif you wanna make your work also fun:\n    use Python!\n"
    },
    {
     "output_type": "execute_result",
     "data": {
      "text/plain": "<function TextIOWrapper.close()>"
     },
     "metadata": {},
     "execution_count": 2
    }
   ],
   "source": [
    "poem = '''\\\n",
    "Programming is fun\n",
    "When the work is done\n",
    "if you wanna make your work also fun:\n",
    "    use Python!\n",
    "'''\n",
    "\n",
    "f = open('poem.text', 'w') # writing\n",
    "f.write(poem) #寫入poem\n",
    "f.close # close document\n",
    "\n",
    "f = open('poem.text') # default is read\n",
    "while True:\n",
    "    line = f.readline()\n",
    "    if len(line) == 0:\n",
    "        break\n",
    "    print(line, end='') #每行本身都具有 換行符號了\n",
    "f.close\n"
   ]
  },
  {
   "cell_type": "markdown",
   "metadata": {},
   "source": [
    "### Pickle\n",
    "Persistently stored data"
   ]
  },
  {
   "cell_type": "code",
   "execution_count": 3,
   "metadata": {
    "tags": []
   },
   "outputs": [
    {
     "output_type": "stream",
     "name": "stdout",
     "text": "['apple', 'mango', 'carrot']\n"
    }
   ],
   "source": [
    "import pickle\n",
    "shoplistfile = 'shoplist.data' # stored data file\n",
    "shoplist = ['apple', 'mango', 'carrot'] # shop list\n",
    "\n",
    "# prepare file\n",
    "f = open(shoplistfile, 'wb') # wb = write binary 二進位制\n",
    "# write file \n",
    "pickle.dump(shoplist, f)\n",
    "f.close()\n",
    "\n",
    "#delete shoplist\n",
    "del shoplist\n",
    "\n",
    "#open file\n",
    "f = open(shoplistfile, 'rb')\n",
    "#load file\n",
    "loadlist = pickle.load(f)\n",
    "print(loadlist)\n"
   ]
  },
  {
   "cell_type": "markdown",
   "metadata": {},
   "source": [
    "###　Unicode"
   ]
  },
  {
   "cell_type": "code",
   "execution_count": 4,
   "metadata": {
    "tags": []
   },
   "outputs": [
    {
     "output_type": "stream",
     "name": "stdout",
     "text": "非英文\n"
    }
   ],
   "source": [
    "# encoding=utf-8\n",
    "import io\n",
    "\n",
    "f = io.open('abc.txt', 'wt', encoding='utf-8') # write txt \n",
    "f.write('非英文')\n",
    "f.close()\n",
    "\n",
    "text = io.open('abc.txt',encoding='utf-8').read()\n",
    "print(text)"
   ]
  }
 ],
 "metadata": {
  "language_info": {
   "codemirror_mode": {
    "name": "ipython",
    "version": 3
   },
   "file_extension": ".py",
   "mimetype": "text/x-python",
   "name": "python",
   "nbconvert_exporter": "python",
   "pygments_lexer": "ipython3",
   "version": "3.6.9-final"
  },
  "orig_nbformat": 2,
  "kernelspec": {
   "name": "workshop",
   "display_name": "workshop"
  }
 },
 "nbformat": 4,
 "nbformat_minor": 2
}